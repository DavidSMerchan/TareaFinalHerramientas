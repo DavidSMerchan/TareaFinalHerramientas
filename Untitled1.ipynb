{
 "cells": [
  {
   "cell_type": "markdown",
   "id": "7aa27c24-570a-4248-923a-748ce467c3b8",
   "metadata": {},
   "source": [
    "# Tarea final de herramientas computacionales\n",
    "\n",
    " David Santiago Merchan León - 2190719\n",
    " Grupo PA1\n",
    "## Pandas y ajuste de curvas\n",
    "\n",
    "En esta tarea final, se utilizará pandas, matploplib y numpy con el objetivo de estudiar el ajuste de curvas a través de la programación de python como se hará a continuación\n"
   ]
  },
  {
   "cell_type": "code",
   "execution_count": 112,
   "id": "c80e5ea7-53d3-4ec8-824b-6d8dff893fcf",
   "metadata": {},
   "outputs": [],
   "source": [
    "# Se importan las librerías importantes para el trabajo.\n",
    "import numpy as np\n",
    "import matplotlib.pyplot as plt\n",
    "import matplotlib as mpl\n",
    "import pandas as pd\n",
    "import scipy as sci\n",
    "from scipy.optimize import curve_fit as cf"
   ]
  },
  {
   "cell_type": "markdown",
   "id": "b2b8b60f-d749-4d69-8998-6cb0ba6f3f3e",
   "metadata": {},
   "source": [
    "Luego de las librerías necesarias, se leen los documentos necesarios para la realización del trabajo\n"
   ]
  },
  {
   "cell_type": "code",
   "execution_count": 113,
   "id": "d6743547-6d8f-477f-884c-dadfddc72f24",
   "metadata": {},
   "outputs": [],
   "source": [
    "# Se leen los documentos\n",
    "Activacion = pd.read_csv(\"Global_active_power.csv\", delimiter= \",\")\n",
    "Intensidad = pd.read_csv(\"Global_intensity.csv\", delimiter= \",\")\n",
    "Reactivacion = pd.read_csv(\"Global_reactive_power.csv\", delimiter= \",\")\n",
    "Voltaje = pd.read_csv(\"Voltage.csv\", delimiter= \",\")"
   ]
  },
  {
   "cell_type": "markdown",
   "id": "0dacc8a6-a475-459b-b93b-24e898e503b2",
   "metadata": {},
   "source": [
    "Luego de leer los documentos, se procede a juntar todos en uno solo."
   ]
  },
  {
   "cell_type": "code",
   "execution_count": 114,
   "id": "7f710ff7-08cf-4f07-aed6-008fc3659842",
   "metadata": {},
   "outputs": [],
   "source": [
    "# Se concatenan las tablas en una sola para poder trabajar con ellos\n",
    "Tabla1 = pd.merge(Activacion,Reactivacion, on=[\"Datetime\"])\n",
    "Tabla2 = pd.merge(Intensidad,Voltaje, on=[\"Datetime\"])\n",
    "Tabla = pd.merge(Tabla1,Tabla2).set_index('Datetime')\n",
    "# Se convierten las energías a Vatios/hora\n",
    "Tabla[\"Global_active_power\"] = round(Tabla[\"Global_active_power\"]*1000/60, 3)\n",
    "Tabla[\"Global_reactive_power\"] = round(Tabla[\"Global_reactive_power\"]*1000/60, 3)\n"
   ]
  },
  {
   "cell_type": "code",
   "execution_count": 115,
   "id": "4797f4ce-3419-4fd3-a7dc-9eb354910b9d",
   "metadata": {},
   "outputs": [
    {
     "data": {
      "text/html": [
       "<div>\n",
       "<style scoped>\n",
       "    .dataframe tbody tr th:only-of-type {\n",
       "        vertical-align: middle;\n",
       "    }\n",
       "\n",
       "    .dataframe tbody tr th {\n",
       "        vertical-align: top;\n",
       "    }\n",
       "\n",
       "    .dataframe thead th {\n",
       "        text-align: right;\n",
       "    }\n",
       "</style>\n",
       "<table border=\"1\" class=\"dataframe\">\n",
       "  <thead>\n",
       "    <tr style=\"text-align: right;\">\n",
       "      <th></th>\n",
       "      <th>Global_active_power</th>\n",
       "      <th>Global_reactive_power</th>\n",
       "      <th>Global_intensity</th>\n",
       "      <th>Voltage</th>\n",
       "    </tr>\n",
       "    <tr>\n",
       "      <th>Datetime</th>\n",
       "      <th></th>\n",
       "      <th></th>\n",
       "      <th></th>\n",
       "      <th></th>\n",
       "    </tr>\n",
       "  </thead>\n",
       "  <tbody>\n",
       "    <tr>\n",
       "      <th>2010-01-01 00:00:00</th>\n",
       "      <td>29.833</td>\n",
       "      <td>3.933</td>\n",
       "      <td>7.4</td>\n",
       "      <td>240.65</td>\n",
       "    </tr>\n",
       "    <tr>\n",
       "      <th>2010-01-01 00:01:00</th>\n",
       "      <td>29.667</td>\n",
       "      <td>3.900</td>\n",
       "      <td>7.4</td>\n",
       "      <td>240.07</td>\n",
       "    </tr>\n",
       "    <tr>\n",
       "      <th>2010-01-01 00:02:00</th>\n",
       "      <td>29.667</td>\n",
       "      <td>3.900</td>\n",
       "      <td>7.4</td>\n",
       "      <td>240.15</td>\n",
       "    </tr>\n",
       "    <tr>\n",
       "      <th>2010-01-01 00:03:00</th>\n",
       "      <td>29.100</td>\n",
       "      <td>3.100</td>\n",
       "      <td>7.2</td>\n",
       "      <td>240.26</td>\n",
       "    </tr>\n",
       "    <tr>\n",
       "      <th>2010-01-01 00:04:00</th>\n",
       "      <td>28.100</td>\n",
       "      <td>1.700</td>\n",
       "      <td>7.0</td>\n",
       "      <td>240.12</td>\n",
       "    </tr>\n",
       "    <tr>\n",
       "      <th>...</th>\n",
       "      <td>...</td>\n",
       "      <td>...</td>\n",
       "      <td>...</td>\n",
       "      <td>...</td>\n",
       "    </tr>\n",
       "    <tr>\n",
       "      <th>2010-11-26 20:58:00</th>\n",
       "      <td>15.767</td>\n",
       "      <td>0.000</td>\n",
       "      <td>4.0</td>\n",
       "      <td>240.43</td>\n",
       "    </tr>\n",
       "    <tr>\n",
       "      <th>2010-11-26 20:59:00</th>\n",
       "      <td>15.733</td>\n",
       "      <td>0.000</td>\n",
       "      <td>4.0</td>\n",
       "      <td>240.00</td>\n",
       "    </tr>\n",
       "    <tr>\n",
       "      <th>2010-11-26 21:00:00</th>\n",
       "      <td>15.633</td>\n",
       "      <td>0.000</td>\n",
       "      <td>3.8</td>\n",
       "      <td>239.82</td>\n",
       "    </tr>\n",
       "    <tr>\n",
       "      <th>2010-11-26 21:01:00</th>\n",
       "      <td>15.567</td>\n",
       "      <td>0.000</td>\n",
       "      <td>3.8</td>\n",
       "      <td>239.70</td>\n",
       "    </tr>\n",
       "    <tr>\n",
       "      <th>2010-11-26 21:02:00</th>\n",
       "      <td>15.533</td>\n",
       "      <td>0.000</td>\n",
       "      <td>3.8</td>\n",
       "      <td>239.55</td>\n",
       "    </tr>\n",
       "  </tbody>\n",
       "</table>\n",
       "<p>457395 rows × 4 columns</p>\n",
       "</div>"
      ],
      "text/plain": [
       "                     Global_active_power  Global_reactive_power  \\\n",
       "Datetime                                                          \n",
       "2010-01-01 00:00:00               29.833                  3.933   \n",
       "2010-01-01 00:01:00               29.667                  3.900   \n",
       "2010-01-01 00:02:00               29.667                  3.900   \n",
       "2010-01-01 00:03:00               29.100                  3.100   \n",
       "2010-01-01 00:04:00               28.100                  1.700   \n",
       "...                                  ...                    ...   \n",
       "2010-11-26 20:58:00               15.767                  0.000   \n",
       "2010-11-26 20:59:00               15.733                  0.000   \n",
       "2010-11-26 21:00:00               15.633                  0.000   \n",
       "2010-11-26 21:01:00               15.567                  0.000   \n",
       "2010-11-26 21:02:00               15.533                  0.000   \n",
       "\n",
       "                     Global_intensity  Voltage  \n",
       "Datetime                                        \n",
       "2010-01-01 00:00:00               7.4   240.65  \n",
       "2010-01-01 00:01:00               7.4   240.07  \n",
       "2010-01-01 00:02:00               7.4   240.15  \n",
       "2010-01-01 00:03:00               7.2   240.26  \n",
       "2010-01-01 00:04:00               7.0   240.12  \n",
       "...                               ...      ...  \n",
       "2010-11-26 20:58:00               4.0   240.43  \n",
       "2010-11-26 20:59:00               4.0   240.00  \n",
       "2010-11-26 21:00:00               3.8   239.82  \n",
       "2010-11-26 21:01:00               3.8   239.70  \n",
       "2010-11-26 21:02:00               3.8   239.55  \n",
       "\n",
       "[457395 rows x 4 columns]"
      ]
     },
     "execution_count": 115,
     "metadata": {},
     "output_type": "execute_result"
    }
   ],
   "source": [
    "# Se utiliza la columna \"Datetime\" como índice para poder realizar los re-samples sin inconvenientes.\n",
    "Tabla.index = pd.to_datetime(Tabla.index)\n",
    "Tabla=Tabla.dropna()\n",
    "Tabla"
   ]
  },
  {
   "cell_type": "markdown",
   "id": "b68767d4-f891-4692-992b-704c281595ec",
   "metadata": {},
   "source": [
    "Luego de tener la tabla lista con todos los datos, se procede a hacer los re-samples por días y meses"
   ]
  },
  {
   "cell_type": "markdown",
   "id": "cfff82d2-f654-4cec-85c7-431b557fe885",
   "metadata": {},
   "source": [
    "## Re-sample en días\n",
    "Para seguir realizando la investigación, se realizará un muestreo en días de la tabla\n"
   ]
  },
  {
   "cell_type": "code",
   "execution_count": 116,
   "id": "d5475fdd-97b4-4273-8edd-71bec719ddd0",
   "metadata": {},
   "outputs": [
    {
     "data": {
      "text/html": [
       "<div>\n",
       "<style scoped>\n",
       "    .dataframe tbody tr th:only-of-type {\n",
       "        vertical-align: middle;\n",
       "    }\n",
       "\n",
       "    .dataframe tbody tr th {\n",
       "        vertical-align: top;\n",
       "    }\n",
       "\n",
       "    .dataframe thead th {\n",
       "        text-align: right;\n",
       "    }\n",
       "</style>\n",
       "<table border=\"1\" class=\"dataframe\">\n",
       "  <thead>\n",
       "    <tr style=\"text-align: right;\">\n",
       "      <th></th>\n",
       "      <th>Global_active_power</th>\n",
       "      <th>Global_reactive_power</th>\n",
       "      <th>Global_intensity</th>\n",
       "      <th>Voltage</th>\n",
       "    </tr>\n",
       "    <tr>\n",
       "      <th>Datetime</th>\n",
       "      <th></th>\n",
       "      <th></th>\n",
       "      <th></th>\n",
       "      <th></th>\n",
       "    </tr>\n",
       "  </thead>\n",
       "  <tbody>\n",
       "    <tr>\n",
       "      <th>2010-01-01</th>\n",
       "      <td>14.169592</td>\n",
       "      <td>1.913614</td>\n",
       "      <td>3.537083</td>\n",
       "      <td>242.565722</td>\n",
       "    </tr>\n",
       "    <tr>\n",
       "      <th>2010-01-02</th>\n",
       "      <td>19.603921</td>\n",
       "      <td>1.444256</td>\n",
       "      <td>4.857778</td>\n",
       "      <td>243.631743</td>\n",
       "    </tr>\n",
       "    <tr>\n",
       "      <th>2010-01-03</th>\n",
       "      <td>15.031576</td>\n",
       "      <td>1.505511</td>\n",
       "      <td>3.757778</td>\n",
       "      <td>241.822778</td>\n",
       "    </tr>\n",
       "    <tr>\n",
       "      <th>2010-01-04</th>\n",
       "      <td>19.530562</td>\n",
       "      <td>1.672035</td>\n",
       "      <td>4.879028</td>\n",
       "      <td>241.754160</td>\n",
       "    </tr>\n",
       "    <tr>\n",
       "      <th>2010-01-05</th>\n",
       "      <td>15.279607</td>\n",
       "      <td>2.228298</td>\n",
       "      <td>3.929861</td>\n",
       "      <td>240.647167</td>\n",
       "    </tr>\n",
       "    <tr>\n",
       "      <th>...</th>\n",
       "      <td>...</td>\n",
       "      <td>...</td>\n",
       "      <td>...</td>\n",
       "      <td>...</td>\n",
       "    </tr>\n",
       "    <tr>\n",
       "      <th>2010-12-07</th>\n",
       "      <td>12.842301</td>\n",
       "      <td>3.309176</td>\n",
       "      <td>3.397222</td>\n",
       "      <td>240.218646</td>\n",
       "    </tr>\n",
       "    <tr>\n",
       "      <th>2010-12-08</th>\n",
       "      <td>6.130765</td>\n",
       "      <td>1.957152</td>\n",
       "      <td>1.623750</td>\n",
       "      <td>240.794931</td>\n",
       "    </tr>\n",
       "    <tr>\n",
       "      <th>2010-12-09</th>\n",
       "      <td>18.658474</td>\n",
       "      <td>2.330551</td>\n",
       "      <td>4.755694</td>\n",
       "      <td>241.619722</td>\n",
       "    </tr>\n",
       "    <tr>\n",
       "      <th>2010-12-10</th>\n",
       "      <td>18.283479</td>\n",
       "      <td>1.970690</td>\n",
       "      <td>4.681389</td>\n",
       "      <td>240.260674</td>\n",
       "    </tr>\n",
       "    <tr>\n",
       "      <th>2010-12-11</th>\n",
       "      <td>21.259526</td>\n",
       "      <td>1.749354</td>\n",
       "      <td>5.434861</td>\n",
       "      <td>238.837896</td>\n",
       "    </tr>\n",
       "  </tbody>\n",
       "</table>\n",
       "<p>323 rows × 4 columns</p>\n",
       "</div>"
      ],
      "text/plain": [
       "            Global_active_power  Global_reactive_power  Global_intensity  \\\n",
       "Datetime                                                                   \n",
       "2010-01-01            14.169592               1.913614          3.537083   \n",
       "2010-01-02            19.603921               1.444256          4.857778   \n",
       "2010-01-03            15.031576               1.505511          3.757778   \n",
       "2010-01-04            19.530562               1.672035          4.879028   \n",
       "2010-01-05            15.279607               2.228298          3.929861   \n",
       "...                         ...                    ...               ...   \n",
       "2010-12-07            12.842301               3.309176          3.397222   \n",
       "2010-12-08             6.130765               1.957152          1.623750   \n",
       "2010-12-09            18.658474               2.330551          4.755694   \n",
       "2010-12-10            18.283479               1.970690          4.681389   \n",
       "2010-12-11            21.259526               1.749354          5.434861   \n",
       "\n",
       "               Voltage  \n",
       "Datetime                \n",
       "2010-01-01  242.565722  \n",
       "2010-01-02  243.631743  \n",
       "2010-01-03  241.822778  \n",
       "2010-01-04  241.754160  \n",
       "2010-01-05  240.647167  \n",
       "...                ...  \n",
       "2010-12-07  240.218646  \n",
       "2010-12-08  240.794931  \n",
       "2010-12-09  241.619722  \n",
       "2010-12-10  240.260674  \n",
       "2010-12-11  238.837896  \n",
       "\n",
       "[323 rows x 4 columns]"
      ]
     },
     "execution_count": 116,
     "metadata": {},
     "output_type": "execute_result"
    }
   ],
   "source": [
    "# Se crea una nueva muestra de la tabla que enseña la información por días.\n",
    "Dias=Tabla.resample('D').mean()\n",
    "Dias=Dias.dropna()\n",
    "Dias"
   ]
  },
  {
   "cell_type": "markdown",
   "id": "e71759fe-6dd8-4fbc-a061-090a2dd9d1b7",
   "metadata": {},
   "source": [
    "## Re-sample en meses\n",
    "Para seguir realizando la investigación, se realizará un muestreo en meses de la tabla"
   ]
  },
  {
   "cell_type": "code",
   "execution_count": 117,
   "id": "e7d108ec-5c67-45c7-b9df-ec6c794af104",
   "metadata": {},
   "outputs": [
    {
     "data": {
      "text/html": [
       "<div>\n",
       "<style scoped>\n",
       "    .dataframe tbody tr th:only-of-type {\n",
       "        vertical-align: middle;\n",
       "    }\n",
       "\n",
       "    .dataframe tbody tr th {\n",
       "        vertical-align: top;\n",
       "    }\n",
       "\n",
       "    .dataframe thead th {\n",
       "        text-align: right;\n",
       "    }\n",
       "</style>\n",
       "<table border=\"1\" class=\"dataframe\">\n",
       "  <thead>\n",
       "    <tr style=\"text-align: right;\">\n",
       "      <th></th>\n",
       "      <th>Global_active_power</th>\n",
       "      <th>Global_reactive_power</th>\n",
       "      <th>Global_intensity</th>\n",
       "      <th>Voltage</th>\n",
       "    </tr>\n",
       "    <tr>\n",
       "      <th>Datetime</th>\n",
       "      <th></th>\n",
       "      <th></th>\n",
       "      <th></th>\n",
       "      <th></th>\n",
       "    </tr>\n",
       "  </thead>\n",
       "  <tbody>\n",
       "    <tr>\n",
       "      <th>2010-01-31</th>\n",
       "      <td>21.677334</td>\n",
       "      <td>2.086377</td>\n",
       "      <td>5.430332</td>\n",
       "      <td>242.338522</td>\n",
       "    </tr>\n",
       "    <tr>\n",
       "      <th>2010-02-28</th>\n",
       "      <td>19.292318</td>\n",
       "      <td>1.824457</td>\n",
       "      <td>4.836624</td>\n",
       "      <td>242.002101</td>\n",
       "    </tr>\n",
       "    <tr>\n",
       "      <th>2010-03-31</th>\n",
       "      <td>19.500255</td>\n",
       "      <td>2.272798</td>\n",
       "      <td>4.920399</td>\n",
       "      <td>241.475284</td>\n",
       "    </tr>\n",
       "    <tr>\n",
       "      <th>2010-04-30</th>\n",
       "      <td>17.272230</td>\n",
       "      <td>2.159279</td>\n",
       "      <td>4.363496</td>\n",
       "      <td>241.442527</td>\n",
       "    </tr>\n",
       "    <tr>\n",
       "      <th>2010-05-31</th>\n",
       "      <td>17.932618</td>\n",
       "      <td>2.120356</td>\n",
       "      <td>4.551504</td>\n",
       "      <td>241.296151</td>\n",
       "    </tr>\n",
       "    <tr>\n",
       "      <th>2010-06-30</th>\n",
       "      <td>16.255105</td>\n",
       "      <td>2.425415</td>\n",
       "      <td>4.170282</td>\n",
       "      <td>240.888985</td>\n",
       "    </tr>\n",
       "    <tr>\n",
       "      <th>2010-07-31</th>\n",
       "      <td>12.982458</td>\n",
       "      <td>2.301545</td>\n",
       "      <td>3.337202</td>\n",
       "      <td>240.965167</td>\n",
       "    </tr>\n",
       "    <tr>\n",
       "      <th>2010-08-31</th>\n",
       "      <td>15.490872</td>\n",
       "      <td>2.180260</td>\n",
       "      <td>3.954423</td>\n",
       "      <td>241.422944</td>\n",
       "    </tr>\n",
       "    <tr>\n",
       "      <th>2010-09-30</th>\n",
       "      <td>16.625685</td>\n",
       "      <td>2.128339</td>\n",
       "      <td>4.223837</td>\n",
       "      <td>241.267517</td>\n",
       "    </tr>\n",
       "    <tr>\n",
       "      <th>2010-10-31</th>\n",
       "      <td>18.795824</td>\n",
       "      <td>2.242450</td>\n",
       "      <td>4.732904</td>\n",
       "      <td>242.515451</td>\n",
       "    </tr>\n",
       "    <tr>\n",
       "      <th>2010-11-30</th>\n",
       "      <td>18.440831</td>\n",
       "      <td>1.923167</td>\n",
       "      <td>4.679594</td>\n",
       "      <td>241.024739</td>\n",
       "    </tr>\n",
       "    <tr>\n",
       "      <th>2010-12-31</th>\n",
       "      <td>18.459316</td>\n",
       "      <td>2.158318</td>\n",
       "      <td>4.673267</td>\n",
       "      <td>241.420479</td>\n",
       "    </tr>\n",
       "  </tbody>\n",
       "</table>\n",
       "</div>"
      ],
      "text/plain": [
       "            Global_active_power  Global_reactive_power  Global_intensity  \\\n",
       "Datetime                                                                   \n",
       "2010-01-31            21.677334               2.086377          5.430332   \n",
       "2010-02-28            19.292318               1.824457          4.836624   \n",
       "2010-03-31            19.500255               2.272798          4.920399   \n",
       "2010-04-30            17.272230               2.159279          4.363496   \n",
       "2010-05-31            17.932618               2.120356          4.551504   \n",
       "2010-06-30            16.255105               2.425415          4.170282   \n",
       "2010-07-31            12.982458               2.301545          3.337202   \n",
       "2010-08-31            15.490872               2.180260          3.954423   \n",
       "2010-09-30            16.625685               2.128339          4.223837   \n",
       "2010-10-31            18.795824               2.242450          4.732904   \n",
       "2010-11-30            18.440831               1.923167          4.679594   \n",
       "2010-12-31            18.459316               2.158318          4.673267   \n",
       "\n",
       "               Voltage  \n",
       "Datetime                \n",
       "2010-01-31  242.338522  \n",
       "2010-02-28  242.002101  \n",
       "2010-03-31  241.475284  \n",
       "2010-04-30  241.442527  \n",
       "2010-05-31  241.296151  \n",
       "2010-06-30  240.888985  \n",
       "2010-07-31  240.965167  \n",
       "2010-08-31  241.422944  \n",
       "2010-09-30  241.267517  \n",
       "2010-10-31  242.515451  \n",
       "2010-11-30  241.024739  \n",
       "2010-12-31  241.420479  "
      ]
     },
     "execution_count": 117,
     "metadata": {},
     "output_type": "execute_result"
    }
   ],
   "source": [
    "# Se crea una nueva muestra de la tabla que enseña la información por meses.\n",
    "Meses=Tabla.resample('M').mean()\n",
    "Meses=Meses.dropna()\n",
    "\n",
    "Meses"
   ]
  },
  {
   "cell_type": "markdown",
   "id": "6e36d376-9159-4a61-a80d-3eab2182e464",
   "metadata": {},
   "source": [
    "## Modelos de regresión\n",
    "\n",
    "Para continuar, se realizarán los modelos de regresión y éstos se basarán en dos funciones lineales, una para dos variables y una para tres variables.\n",
    "\n",
    "Para que el procedimiento sea lo más rápido posible, se generará un modelo de regresión para las funciones. A continuación se muestra el procedimiento para la regresión.\n"
   ]
  },
  {
   "cell_type": "code",
   "execution_count": 118,
   "id": "c941ec9a-d2bb-41ca-9edb-2f4dffa4b290",
   "metadata": {},
   "outputs": [],
   "source": [
    "# Función lineal de doble variable\n",
    "def Lineal1(x, a, b):\n",
    "    return a*x+b\n",
    "\n",
    "# Función lineal de triple variable\n",
    "def Lineal2(X, a, b, c):\n",
    "    X = x,y\n",
    "    return a*x[0]+b*y[1]+c\n",
    "# Se crea el modelo de regresión necesario para todas las funciones.\n",
    "def fit(func,xdata,ydata,r):\n",
    "    popt, pcov = curve_fit(func, xdata, ydata)\n",
    "    popt, pcov = np.around(popt,r), np.around(np.sqrt(np.diag(pcov)),r)\n",
    "    E = np.sqrt(np.mean((ydata-func(xdata, *popt))**2))\n",
    "    print(\"Los coeficientes son : {}\".format(popt))\n",
    "    print(\"Los coeficientes de sigma son: {}\".format(pcov))\n",
    "    print(\"El error en la regresión lineal es :{}\".format(E))\n",
    "    return"
   ]
  },
  {
   "cell_type": "markdown",
   "id": "c29b0f65-f783-4f52-be59-267814fc6453",
   "metadata": {},
   "source": [
    "## Regresión de la primera relación.\n",
    "\n",
    "La primera relación es entre la energía activa global y la intensidad global\n",
    "\n",
    "Energía activa = A1(Intensidad Global) + B1\n"
   ]
  },
  {
   "cell_type": "code",
   "execution_count": 119,
   "id": "c4259246-9759-447e-b928-f0644e265221",
   "metadata": {},
   "outputs": [],
   "source": [
    "# Se describe la relación en intervalos de minutos.\n",
    "popt, pcovmin= curve_fit(Lineal1, Tabla[\"Global_active_power\"], Tabla[\"Global_intensity\"])\n",
    "# Se describe la relación en intervalos de días.\n",
    "poptdia, pcovdia= curve_fit(Lineal1, Dias[\"Global_active_power\"], Dias[\"Global_intensity\"])\n",
    "# Se describe la relación en intervalos de meses.\n",
    "poptmes, pcovmes= curve_fit(Lineal1, Meses[\"Global_active_power\"], Meses[\"Global_intensity\"])\n",
    "\n"
   ]
  },
  {
   "cell_type": "code",
   "execution_count": 120,
   "id": "6951f2a4-d4d2-46ec-839b-f1cda5cf05b3",
   "metadata": {},
   "outputs": [
    {
     "data": {
      "image/png": "[encoded data removed]",
      "text/plain": [
       "<Figure size 432x288 with 1 Axes>"
      ]
     },
     "metadata": {
      "needs_background": "light"
     },
     "output_type": "display_data"
    }
   ],
   "source": [
    "\n",
    "# Se genera la gráfica de la relación en intervalos de minutos\n",
    "plt.figure(figsize=(6,4))\n",
    "plt.plot(Tabla[\"Global_active_power\"], Lineal1(Tabla[\"Global_active_power\"], *popt), 'r-', label = 'fit: a=%6.6f, b=%6.6f' % tuple(poptmes))\n",
    "plt.scatter(Tabla[\"Global_active_power\"], Tabla[\"Global_intensity\"], label = \"Información base\")\n",
    "plt.title(\"Regresión de la relación por minuto\")\n",
    "plt.xlabel('Intensidad Global [A]')\n",
    "plt.ylabel('Energía activa global [kW-min]')\n",
    "plt.legend()\n",
    "plt.show()"
   ]
  },
  {
   "cell_type": "code",
   "execution_count": 140,
   "id": "bce870a8-8147-426d-ae57-cdc0fd9a427a",
   "metadata": {},
   "outputs": [
    {
     "data": {
      "image/png": "[encoded data removed]",
      "text/plain": [
       "<Figure size 432x288 with 1 Axes>"
      ]
     },
     "metadata": {
      "needs_background": "light"
     },
     "output_type": "display_data"
    }
   ],
   "source": [
    "# Se genera la gráfica de la relación en intervalos de días.\n",
    "plt.figure(figsize=(6,4))\n",
    "plt.plot(Dias[\"Global_active_power\"], Lineal1(Dias[\"Global_active_power\"], *poptdia), 'r-', label = 'fit: a=%6.6f, b=%6.6f' % tuple(poptdia))\n",
    "plt.scatter(Tabla[\"Global_active_power\"], Tabla[\"Global_intensity\"], label = \"Información base\")\n",
    "plt.title(\"Regresión de la relación por días\")\n",
    "plt.xlabel('Intensidad Global [A]')\n",
    "plt.ylabel('Energía activa global [kW-min]')\n",
    "plt.legend()\n",
    "plt.show()"
   ]
  },
  {
   "cell_type": "code",
   "execution_count": 141,
   "id": "61dedb3a-0588-483b-b24c-9a598ea441e2",
   "metadata": {},
   "outputs": [
    {
     "data": {
      "image/png": "[encoded data removed]",
      "text/plain": [
       "<Figure size 432x288 with 1 Axes>"
      ]
     },
     "metadata": {
      "needs_background": "light"
     },
     "output_type": "display_data"
    }
   ],
   "source": [
    "# Se genera la gráfica de la relación en intervalos de meses.\n",
    "plt.figure(figsize=(6,4))\n",
    "plt.plot(Meses[\"Global_active_power\"], Lineal1(Meses[\"Global_active_power\"], *poptmes), 'r-', label = 'fit: a=%6.6f, b=%6.6f' % tuple(poptmes))\n",
    "plt.scatter(Meses[\"Global_active_power\"], Meses[\"Global_intensity\"], label = \"Información base\")\n",
    "plt.title(\"Regresión de la relación por meses\")\n",
    "plt.xlabel('Intensidad Global [A]')\n",
    "plt.ylabel('Energía activa global [kW-min]')\n",
    "plt.legend()\n",
    "plt.show()"
   ]
  },
  {
   "cell_type": "code",
   "execution_count": 142,
   "id": "6b04fe71-5c45-4c48-8944-2faf1542cb20",
   "metadata": {},
   "outputs": [
    {
     "name": "stdout",
     "output_type": "stream",
     "text": [
      "El analisis por minuto, día y mes es el siguiente:\n",
      "Los coeficientes son : [ 3.9671 -0.083 ]\n",
      "Los coeficientes de sigma son: [0.0003 0.0018]\n",
      "El error en la regresión lineal es :0.820916192925345\n",
      "Los coeficientes son : [ 4.051  -0.4589]\n",
      "Los coeficientes de sigma son: [0.01  0.047]\n",
      "El error en la regresión lineal es :0.2537459197629087\n",
      "Los coeficientes son : [ 4.1738 -1.0112]\n",
      "Los coeficientes de sigma son: [0.0426 0.1925]\n",
      "El error en la regresión lineal es :0.06875916234325598\n"
     ]
    }
   ],
   "source": [
    "print(\"El analisis por minuto, día y mes es el siguiente:\")\n",
    "fit(Lineal1,Tabla[\"Global_intensity\"],Tabla[\"Global_active_power\"],4)\n",
    "fit(Lineal1,Dias[\"Global_intensity\"],Dias[\"Global_active_power\"],4)\n",
    "fit(Lineal1,Meses[\"Global_intensity\"],Meses[\"Global_active_power\"],4)"
   ]
  },
  {
   "cell_type": "markdown",
   "id": "6eeb325b-9ef3-445b-8edd-03085adcf08d",
   "metadata": {},
   "source": [
    "## Regresión de la segunda relación.\n",
    "\n",
    "La segunda relación es entre la energía activa global y el voltaje\n",
    "\n",
    "Energía activa = A1(Voltaje) + B1"
   ]
  },
  {
   "cell_type": "code",
   "execution_count": 133,
   "id": "462165d4-8cd6-41bd-887e-64af040b796f",
   "metadata": {},
   "outputs": [],
   "source": [
    "# Se describe la relación en intervalos de minutos.\n",
    "popt2, pcovmin2= curve_fit(Lineal1, Tabla[\"Global_active_power\"], Tabla[\"Voltage\"])\n",
    "# Se describe la relación en intervalos de días.\n",
    "poptdia2, pcovdia2= curve_fit(Lineal1, Dias[\"Global_active_power\"], Dias[\"Voltage\"])\n",
    "# Se describe la relación en intervalos de meses.\n",
    "poptmes2, pcovmes2= curve_fit(Lineal1, Meses[\"Global_active_power\"], Meses[\"Voltage\"])\n"
   ]
  },
  {
   "cell_type": "code",
   "execution_count": 134,
   "id": "3c48ac55-9f8e-4c5f-afc2-1467103a0c3c",
   "metadata": {},
   "outputs": [
    {
     "data": {
      "image/png": "[encoded data removed]",
      "text/plain": [
       "<Figure size 432x288 with 1 Axes>"
      ]
     },
     "metadata": {
      "needs_background": "light"
     },
     "output_type": "display_data"
    }
   ],
   "source": [
    "# Se genera la gráfica de la relación en intervalos de minutos.\n",
    "plt.figure(figsize=(6,4))\n",
    "plt.plot(Tabla[\"Global_active_power\"], Lineal1(Tabla[\"Global_active_power\"], *popt2), 'r-', label = 'fit: a=%6.6f, b=%6.6f' % tuple(poptmes2))\n",
    "plt.scatter(Tabla[\"Global_active_power\"], Tabla[\"Voltage\"], label = \"Información base\")\n",
    "plt.title(\"Regresión de la relación por minuto\")\n",
    "plt.xlabel('Voltaje [V]')\n",
    "plt.ylabel('Energía activa global [kW-min]')\n",
    "plt.legend()\n",
    "plt.show()"
   ]
  },
  {
   "cell_type": "code",
   "execution_count": 135,
   "id": "0b3e3841-78d2-48ee-b2cb-8806a722a6fd",
   "metadata": {},
   "outputs": [
    {
     "data": {
      "image/png": "[encoded data removed]",
      "text/plain": [
       "<Figure size 432x288 with 1 Axes>"
      ]
     },
     "metadata": {
      "needs_background": "light"
     },
     "output_type": "display_data"
    }
   ],
   "source": [
    "# Se genera la gráfica de la relación en intervalos de días.\n",
    "plt.figure(figsize=(6,4))\n",
    "plt.plot(Dias[\"Global_active_power\"], Lineal1(Dias[\"Global_active_power\"], *poptdia2), 'r-', label = 'fit: a=%6.6f, b=%6.6f' % tuple(poptdia2))\n",
    "plt.scatter(Tabla[\"Global_active_power\"], Tabla[\"Voltage\"], label = \"Información base\")\n",
    "plt.title(\"Regresión de la relación por días\")\n",
    "plt.xlabel('Voltaje [V]')\n",
    "plt.ylabel('Energía activa global [kW-min]')\n",
    "plt.legend()\n",
    "plt.show()"
   ]
  },
  {
   "cell_type": "code",
   "execution_count": 136,
   "id": "ef190883-370c-4753-b235-cbdef534cfa4",
   "metadata": {},
   "outputs": [
    {
     "data": {
      "image/png": "[encoded data removed]",
      "text/plain": [
       "<Figure size 432x288 with 1 Axes>"
      ]
     },
     "metadata": {
      "needs_background": "light"
     },
     "output_type": "display_data"
    }
   ],
   "source": [
    "# Se genera la gráfica de la relación en intervalos de meses.\n",
    "plt.figure(figsize=(6,4))\n",
    "plt.plot(Meses[\"Global_active_power\"], Lineal1(Meses[\"Global_active_power\"], *poptmes2), 'r-', label = 'fit: a=%6.6f, b=%6.6f' % tuple(poptmes2))\n",
    "plt.scatter(Meses[\"Global_active_power\"], Meses[\"Voltage\"], label = \"Información base\")\n",
    "plt.title(\"Regresión de la relación por meses\")\n",
    "plt.xlabel('Voltaje [V]')\n",
    "plt.ylabel('Energía activa global [kW-min]')\n",
    "plt.legend()\n",
    "plt.show()"
   ]
  },
  {
   "cell_type": "code",
   "execution_count": 143,
   "id": "8ea074a6-223f-44ae-9906-88300c935376",
   "metadata": {},
   "outputs": [
    {
     "name": "stdout",
     "output_type": "stream",
     "text": [
      "El analisis por minuto, día y mes es el siguiente:\n",
      "Los coeficientes son : [ -2.2643 564.5588]\n",
      "Los coeficientes de sigma son: [0.0073 1.772 ]\n",
      "El error en la regresión lineal es :14.146563312409317\n",
      "Los coeficientes son : [   0.4943 -101.6943]\n",
      "Los coeficientes de sigma son: [ 0.2063 49.8228]\n",
      "El error en la regresión lineal es :5.6880525878849895\n",
      "Los coeficientes son : [   2.8802 -677.849 ]\n",
      "Los coeficientes de sigma son: [  0.9992 241.3043]\n",
      "El error en la regresión lineal es :1.575380954511134\n"
     ]
    }
   ],
   "source": [
    "print(\"El analisis por minuto, día y mes es el siguiente:\")\n",
    "fit(Lineal1,Tabla[\"Voltage\"],Tabla[\"Global_active_power\"],4)\n",
    "fit(Lineal1,Dias[\"Voltage\"],Dias[\"Global_active_power\"],4)\n",
    "fit(Lineal1,Meses[\"Voltage\"],Meses[\"Global_active_power\"],4)"
   ]
  },
  {
   "cell_type": "markdown",
   "id": "66d3afad-04c5-477c-bb65-ee4ef6c689a5",
   "metadata": {},
   "source": [
    "# Conclusiones \n",
    "\n",
    "\n",
    "Se puede entender que..."
   ]
  },
  {
   "cell_type": "code",
   "execution_count": null,
   "id": "f1dfdf37-500a-4711-addb-db72152302f2",
   "metadata": {},
   "outputs": [],
   "source": []
  },
  {
   "cell_type": "code",
   "execution_count": null,
   "id": "5ce241df-06f2-4487-bf77-249c39190da3",
   "metadata": {},
   "outputs": [],
   "source": []
  }
 ],
 "metadata": {
  "kernelspec": {
   "display_name": "Python 3 (ipykernel)",
   "language": "python",
   "name": "python3"
  },
  "language_info": {
   "codemirror_mode": {
    "name": "ipython",
    "version": 3
   },
   "file_extension": ".py",
   "mimetype": "text/x-python",
   "name": "python",
   "nbconvert_exporter": "python",
   "pygments_lexer": "ipython3",
   "version": "3.8.11"
  }
 },
 "nbformat": 4,
 "nbformat_minor": 5
}
